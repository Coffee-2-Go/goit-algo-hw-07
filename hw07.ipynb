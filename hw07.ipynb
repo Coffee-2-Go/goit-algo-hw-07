{
 "cells": [
  {
   "cell_type": "markdown",
   "metadata": {},
   "source": [
    "# Завдання 1"
   ]
  },
  {
   "cell_type": "markdown",
   "metadata": {},
   "source": [
    "Напишіть алгоритм (функцію), який знаходить найбільше значення у двійковому дереві пошуку або в AVL-дереві.\n",
    " \n",
    "Візьміть будь-яку реалізацію дерева з конспекту чи з іншого джерела."
   ]
  },
  {
   "cell_type": "code",
   "execution_count": 19,
   "metadata": {},
   "outputs": [
    {
     "name": "stdout",
     "output_type": "stream",
     "text": [
      "Найбільше значення у дереві: 7\n"
     ]
    }
   ],
   "source": [
    "class Node:\n",
    "    def __init__(self, key):\n",
    "        self.left = None\n",
    "        self.right = None\n",
    "        self.val = key\n",
    "\n",
    "def find_max_value(root):\n",
    "    if root is None:\n",
    "        return float(\"-inf\")\n",
    "    \n",
    "    left_max = find_max_value(root.left)\n",
    "    right_max = find_max_value(root.right)\n",
    "    \n",
    "    return max(root.val, left_max, right_max)\n",
    "    \n",
    "# Створення бінарного дерева\n",
    "root = Node(1)\n",
    "root.left = Node(2)\n",
    "root.right = Node(3)\n",
    "root.left.left = Node(4)\n",
    "root.left.right = Node(5)\n",
    "root.right.left = Node(6)\n",
    "root.right.right = Node(7)\n",
    "\n",
    "print(\"Найбільше значення у дереві:\", find_max_value(root))"
   ]
  },
  {
   "cell_type": "markdown",
   "metadata": {},
   "source": [
    "# Завдання 2"
   ]
  },
  {
   "cell_type": "markdown",
   "metadata": {},
   "source": [
    "Напишіть алгоритм (функцію), який знаходить найменше значення у двійковому дереві пошуку або в AVL-дереві. \n",
    "\n",
    "Візьміть будь-яку реалізацію дерева з конспекту чи з іншого джерела"
   ]
  },
  {
   "cell_type": "code",
   "execution_count": 36,
   "metadata": {},
   "outputs": [
    {
     "name": "stdout",
     "output_type": "stream",
     "text": [
      "Найменше значення у дереві: 1\n"
     ]
    }
   ],
   "source": [
    "class Node:\n",
    "    def __init__(self, key):\n",
    "        self.left = None\n",
    "        self.right = None\n",
    "        self.val = key\n",
    "\n",
    "def find_min_value(root):\n",
    "    if root is None:\n",
    "        return float(\"inf\")\n",
    "    \n",
    "    left_max = find_min_value(root.left)\n",
    "    right_max = find_min_value(root.right)\n",
    "    \n",
    "    return min(root.val, left_max, right_max)\n",
    "    \n",
    "# Створення бінарного дерева\n",
    "root = Node(1)\n",
    "root.left = Node(2)\n",
    "root.right = Node(3)\n",
    "root.left.left = Node(4)\n",
    "root.left.right = Node(5)\n",
    "root.right.left = Node(6)\n",
    "root.right.right = Node(7)\n",
    "\n",
    "print(\"Найменше значення у дереві:\", find_min_value(root))"
   ]
  },
  {
   "cell_type": "markdown",
   "metadata": {},
   "source": [
    "# Завдання 3"
   ]
  },
  {
   "cell_type": "markdown",
   "metadata": {},
   "source": [
    "Напишіть алгоритм (функцію), який знаходить суму всіх значень у двійковому дереві пошуку або в AVL-дереві.\n",
    "\n",
    "Візьміть будь-яку реалізацію дерева з конспекту чи з іншого джерела."
   ]
  },
  {
   "cell_type": "code",
   "execution_count": 37,
   "metadata": {},
   "outputs": [
    {
     "name": "stdout",
     "output_type": "stream",
     "text": [
      "Сума всіх значень в дереві: 28\n"
     ]
    }
   ],
   "source": [
    "class Node:\n",
    "    def __init__(self, key):\n",
    "        self.left = None\n",
    "        self.right = None\n",
    "        self.val = key\n",
    "\n",
    "def sum(root):\n",
    "    if root is None:\n",
    "        return 0\n",
    "\n",
    "    return root.val + sum(root.left) + sum(root.right)\n",
    "\n",
    "# Приклад використання\n",
    "root = Node(1)\n",
    "root.left = Node(2)\n",
    "root.right = Node(3)\n",
    "root.left.left = Node(4)\n",
    "root.left.right = Node(5)\n",
    "root.right.left = Node(6)\n",
    "root.right.right = Node(7)\n",
    "\n",
    "print(\"Сума всіх значень в дереві:\", sum(root))"
   ]
  },
  {
   "cell_type": "markdown",
   "metadata": {},
   "source": [
    "# Завдання 4 (необов'язкове завдання)"
   ]
  },
  {
   "cell_type": "markdown",
   "metadata": {},
   "source": [
    "Реалізуйте структуру даних для системи коментарів так, щоб коментарі могли мати відповіді, які, в свою чергу, також могли мати відповіді, формуючи таким чином ієрархічну структуру.\n",
    "\n",
    "Bимоги:\n",
    "\n",
    "- Реалізуйте клас Comment, що представляє собою окремий коментар. Він має зберігати текст коментаря, автора та список відповідей.\n",
    "- Метод класу add_reply має додавати нову відповідь до коментаря.\n",
    "- Метод класу remove_reply має видаляти відповідь із коментаря. Це має змінювати текст коментаря на стандартне повідомлення (наприклад, \"Цей коментар було видалено.\") і встановлювати прапорець is_deleted в True.\n",
    "- Метод display має рекурсивно виводити коментар та всі його відповіді, використовуючи відступи для відображення ієрархічної структури."
   ]
  },
  {
   "cell_type": "code",
   "execution_count": 40,
   "metadata": {},
   "outputs": [
    {
     "name": "stdout",
     "output_type": "stream",
     "text": [
      "Бодя: Яка чудова книга!\n",
      "Цей коментар було видалено.\n",
      "    Марина: Що в ній чудового?\n"
     ]
    }
   ],
   "source": [
    "class Comment:\n",
    "    def __init__(self, text, author):\n",
    "        self.text = text\n",
    "        self.author = author\n",
    "        self.replies = []\n",
    "        self.is_deleted = False\n",
    "\n",
    "    def add_reply(self, reply):\n",
    "        self.replies.append(reply)\n",
    "        return reply\n",
    "\n",
    "    def remove_reply(self):\n",
    "        self.text = \"Цей коментар було видалено.\"\n",
    "        self.is_deleted = True\n",
    "\n",
    "    def display(self, indent=0):\n",
    "        if not self.is_deleted:\n",
    "            print(\"    \" * indent + f\"{self.author}: {self.text}\")\n",
    "            for reply in self.replies:\n",
    "                reply.display(indent + 1)\n",
    "        else:\n",
    "            print(\"    \" * (indent - 1) + f\"{self.text}\")\n",
    "\n",
    "\n",
    "# Приклад використання\n",
    "root_comment = Comment(\"Яка чудова книга!\", \"Бодя\")\n",
    "reply1 = Comment(\"Книга повне розчарування :(\", \"Андрій\")\n",
    "reply2 = Comment(\"Що в ній чудового?\", \"Марина\")\n",
    "\n",
    "root_comment.add_reply(reply1)\n",
    "root_comment.add_reply(reply2)\n",
    "\n",
    "reply1_1 = Comment(\"Не книжка, а перевели купу паперу ні нащо...\", \"Сергій\")\n",
    "reply1.add_reply(reply1_1)\n",
    "\n",
    "reply1.remove_reply()\n",
    "\n",
    "root_comment.display()"
   ]
  }
 ],
 "metadata": {
  "kernelspec": {
   "display_name": "Python 3",
   "language": "python",
   "name": "python3"
  },
  "language_info": {
   "codemirror_mode": {
    "name": "ipython",
    "version": 3
   },
   "file_extension": ".py",
   "mimetype": "text/x-python",
   "name": "python",
   "nbconvert_exporter": "python",
   "pygments_lexer": "ipython3",
   "version": "3.12.3"
  }
 },
 "nbformat": 4,
 "nbformat_minor": 2
}
